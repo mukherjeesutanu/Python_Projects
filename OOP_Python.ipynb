{
 "cells": [
  {
   "cell_type": "code",
   "execution_count": 19,
   "metadata": {},
   "outputs": [],
   "source": [
    "class MyBooks():\n",
    "    def __init__(self,author,publishers,genre,language,price):\n",
    "        self.author = author\n",
    "        self.publishers = publishers\n",
    "        self.genre = genre\n",
    "        self.language = language\n",
    "        self.price = price"
   ]
  },
  {
   "cell_type": "code",
   "execution_count": 22,
   "metadata": {},
   "outputs": [],
   "source": [
    "#Creating object of \"MyBooks\" class\n",
    "Physical_Chemsitry = MyBooks(\"Atkins\",\"OUP\",\"Textbook\",\"English\",\"999\")\n",
    "Organic_Chemsitry = MyBooks(\"Clayden\",\"OUP\",\"Textbook\",\"English\",\"1999\")\n",
    "Inorganic_Chemsitry = MyBooks(\"JD Lee\",\"BlackSwan\",\"Textbook\",\"English\",\"899\")"
   ]
  },
  {
   "cell_type": "code",
   "execution_count": 28,
   "metadata": {},
   "outputs": [
    {
     "name": "stdout",
     "output_type": "stream",
     "text": [
      "Atkins\n"
     ]
    }
   ],
   "source": [
    "print(Physical_Chemsitry.author)"
   ]
  },
  {
   "cell_type": "code",
   "execution_count": 32,
   "metadata": {},
   "outputs": [
    {
     "data": {
      "text/plain": [
       "'OUP'"
      ]
     },
     "execution_count": 32,
     "metadata": {},
     "output_type": "execute_result"
    }
   ],
   "source": [
    "Organic_Chemsitry.publishers"
   ]
  },
  {
   "cell_type": "code",
   "execution_count": 33,
   "metadata": {},
   "outputs": [
    {
     "data": {
      "text/plain": [
       "'899'"
      ]
     },
     "execution_count": 33,
     "metadata": {},
     "output_type": "execute_result"
    }
   ],
   "source": [
    "Inorganic_Chemsitry.price"
   ]
  },
  {
   "cell_type": "code",
   "execution_count": null,
   "metadata": {},
   "outputs": [],
   "source": []
  }
 ],
 "metadata": {
  "kernelspec": {
   "display_name": "Python 3",
   "language": "python",
   "name": "python3"
  },
  "language_info": {
   "codemirror_mode": {
    "name": "ipython",
    "version": 3
   },
   "file_extension": ".py",
   "mimetype": "text/x-python",
   "name": "python",
   "nbconvert_exporter": "python",
   "pygments_lexer": "ipython3",
   "version": "3.8.3"
  }
 },
 "nbformat": 4,
 "nbformat_minor": 4
}
